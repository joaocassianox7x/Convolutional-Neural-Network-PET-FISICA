{
 "cells": [
  {
   "cell_type": "markdown",
   "metadata": {},
   "source": [
    "# DATASET : \n",
    "\n",
    "https://www.microsoft.com/en-us/download/details.aspx?id=54765"
   ]
  },
  {
   "cell_type": "code",
   "execution_count": null,
   "metadata": {},
   "outputs": [],
   "source": [
    "import pandas as pd\n",
    "import numpy as np\n",
    "import matplotlib.pyplot as plt\n",
    "\n",
    "from tensorflow.keras.utils import to_categorical\n",
    "from tensorflow.keras.models import Sequential\n",
    "from tensorflow.keras.layers import Dense,Conv2D,MaxPool2D,Flatten\n",
    "from tensorflow.keras.callbacks import EarlyStopping\n",
    "\n",
    "from sklearn.metrics import classification_report,confusion_matrix\n",
    "from sklearn.model_selection import train_test_split\n",
    "\n",
    "import seaborn as sea\n",
    "import glob\n",
    "import cv2\n",
    "%matplotlib inline"
   ]
  },
  {
   "cell_type": "code",
   "execution_count": null,
   "metadata": {},
   "outputs": [],
   "source": [
    "caminho_dog = glob.glob(\"PetImages/Dog/*\")\n",
    "caminho_cat = glob.glob(\"PetImages/Cat/*\")"
   ]
  },
  {
   "cell_type": "code",
   "execution_count": null,
   "metadata": {},
   "outputs": [],
   "source": [
    "img_test = plt.imread(caminho_dog[0])\n",
    "shape = img_test.shape"
   ]
  },
  {
   "cell_type": "code",
   "execution_count": 106,
   "metadata": {},
   "outputs": [
    {
     "name": "stdout",
     "output_type": "stream",
     "text": [
      "1500\r"
     ]
    }
   ],
   "source": [
    "dogs = np.zeros((1500,128,128,3))\n",
    "cats = np.zeros((1500,128,128,3))\n",
    "\n",
    "log = []\n",
    "\n",
    "\n",
    "i = 0\n",
    "erro = 0\n",
    "while i <1500:\n",
    "    try:\n",
    "        img = cv2.imread(caminho_dog[i+erro])\n",
    "        img = cv2.resize(img,(128,128))\n",
    "        dogs[i] = img/np.amax(img)\n",
    "        i+=1\n",
    "        print((i),end=\"\\r\")\n",
    "    except Exception as e:\n",
    "        log+=[e]\n",
    "        erro+=1"
   ]
  },
  {
   "cell_type": "code",
   "execution_count": 107,
   "metadata": {},
   "outputs": [
    {
     "name": "stdout",
     "output_type": "stream",
     "text": [
      "1500\r"
     ]
    }
   ],
   "source": [
    "i = 0\n",
    "erro = 0\n",
    "while i <1500:\n",
    "    try:\n",
    "        img = cv2.imread(caminho_cat[i+erro])\n",
    "        img = cv2.resize(img,(128,128))\n",
    "        cats[i] = img/np.amax(img)\n",
    "        i+=1\n",
    "        print((i),end=\"\\r\")\n",
    "    except Exception as e:\n",
    "        log+=[e]\n",
    "        erro+=1"
   ]
  },
  {
   "cell_type": "code",
   "execution_count": 115,
   "metadata": {},
   "outputs": [],
   "source": [
    "y = np.array([0]*1500+[1]*1500)\n",
    "x = np.concatenate((dogs,cats))"
   ]
  },
  {
   "cell_type": "code",
   "execution_count": 116,
   "metadata": {},
   "outputs": [],
   "source": [
    "X_train, X_test, y_train, y_test = train_test_split(x, y, test_size=0.33, random_state=42)"
   ]
  },
  {
   "cell_type": "code",
   "execution_count": 117,
   "metadata": {},
   "outputs": [],
   "source": [
    "model = Sequential()\n",
    "model.add(Conv2D(filters=32,kernel_size=(4,4),input_shape=(128,128,3),activation=\"relu\"))\n",
    "model.add(MaxPool2D(pool_size=(2,2)))\n",
    "\n",
    "model.add(Conv2D(filters=32,kernel_size=(4,4),input_shape=(32,32,3),activation=\"relu\"))\n",
    "model.add(MaxPool2D(pool_size=(2,2)))\n",
    "\n",
    "model.add(Conv2D(filters=32,kernel_size=(2,2),input_shape=(None,None,3),activation=\"relu\"))\n",
    "model.add(MaxPool2D(pool_size=(2,2)))\n",
    "\n",
    "model.add(Flatten())\n",
    "\n",
    "model.add(Dense(1024,activation=\"relu\"))\n",
    "\n",
    "model.add(Dense(512,activation=\"relu\"))\n",
    "\n",
    "model.add(Dense(256,activation=\"relu\"))\n",
    "\n",
    "model.add(Dense(1,activation=\"sigmoid\"))\n",
    "\n",
    "model.compile(loss=\"binary_crossentropy\",optimizer=\"adam\",metrics=[\"accuracy\"])"
   ]
  },
  {
   "cell_type": "code",
   "execution_count": 118,
   "metadata": {},
   "outputs": [
    {
     "name": "stdout",
     "output_type": "stream",
     "text": [
      "Epoch 1/15\n",
      "7/7 [==============================] - 19s 3s/step - loss: 0.7240 - accuracy: 0.4736 - val_loss: 0.6957 - val_accuracy: 0.4869\n",
      "Epoch 2/15\n",
      "7/7 [==============================] - 16s 2s/step - loss: 0.6919 - accuracy: 0.5493 - val_loss: 0.6853 - val_accuracy: 0.5141\n",
      "Epoch 3/15\n",
      "7/7 [==============================] - 15s 2s/step - loss: 0.6920 - accuracy: 0.4950 - val_loss: 0.6885 - val_accuracy: 0.5131\n",
      "Epoch 4/15\n",
      "7/7 [==============================] - 15s 2s/step - loss: 0.6869 - accuracy: 0.5498 - val_loss: 0.6878 - val_accuracy: 0.5131\n",
      "Epoch 5/15\n",
      "7/7 [==============================] - 15s 2s/step - loss: 0.6810 - accuracy: 0.5592 - val_loss: 0.6930 - val_accuracy: 0.5131\n",
      "Epoch 6/15\n",
      "7/7 [==============================] - 15s 2s/step - loss: 0.6691 - accuracy: 0.5801 - val_loss: 0.6499 - val_accuracy: 0.6434\n",
      "Epoch 7/15\n",
      "7/7 [==============================] - 15s 2s/step - loss: 0.6357 - accuracy: 0.6269 - val_loss: 0.6234 - val_accuracy: 0.6636\n",
      "Epoch 8/15\n",
      "7/7 [==============================] - 15s 2s/step - loss: 0.6054 - accuracy: 0.6557 - val_loss: 0.6151 - val_accuracy: 0.6747\n",
      "Epoch 9/15\n",
      "7/7 [==============================] - 15s 2s/step - loss: 0.5743 - accuracy: 0.6831 - val_loss: 0.6345 - val_accuracy: 0.6485\n",
      "Epoch 10/15\n",
      "7/7 [==============================] - 15s 2s/step - loss: 0.5538 - accuracy: 0.7139 - val_loss: 0.6570 - val_accuracy: 0.6414\n",
      "Epoch 11/15\n",
      "7/7 [==============================] - 15s 2s/step - loss: 0.5039 - accuracy: 0.7418 - val_loss: 0.6410 - val_accuracy: 0.6808\n",
      "Epoch 12/15\n",
      "7/7 [==============================] - 15s 2s/step - loss: 0.4462 - accuracy: 0.7925 - val_loss: 0.6296 - val_accuracy: 0.6798\n",
      "Epoch 13/15\n",
      "7/7 [==============================] - 15s 2s/step - loss: 0.4162 - accuracy: 0.7975 - val_loss: 0.6140 - val_accuracy: 0.6929\n",
      "Epoch 14/15\n",
      "7/7 [==============================] - 15s 2s/step - loss: 0.3660 - accuracy: 0.8393 - val_loss: 0.6939 - val_accuracy: 0.6939\n",
      "Epoch 15/15\n",
      "7/7 [==============================] - 15s 2s/step - loss: 0.3349 - accuracy: 0.8532 - val_loss: 0.7292 - val_accuracy: 0.6758\n"
     ]
    },
    {
     "data": {
      "text/plain": [
       "<tensorflow.python.keras.callbacks.History at 0x24520b6b580>"
      ]
     },
     "execution_count": 118,
     "metadata": {},
     "output_type": "execute_result"
    }
   ],
   "source": [
    "model.fit(x=X_train,y=y_train,epochs=15,batch_size=300,validation_data=(X_test,y_test))"
   ]
  },
  {
   "cell_type": "code",
   "execution_count": 128,
   "metadata": {},
   "outputs": [],
   "source": [
    "predictions = 1*(model.predict(X_test)>0.5)"
   ]
  },
  {
   "cell_type": "code",
   "execution_count": 130,
   "metadata": {},
   "outputs": [
    {
     "name": "stdout",
     "output_type": "stream",
     "text": [
      "              precision    recall  f1-score   support\n",
      "\n",
      "           0       0.69      0.68      0.68       508\n",
      "           1       0.67      0.67      0.67       482\n",
      "\n",
      "    accuracy                           0.68       990\n",
      "   macro avg       0.68      0.68      0.68       990\n",
      "weighted avg       0.68      0.68      0.68       990\n",
      "\n"
     ]
    }
   ],
   "source": [
    "print(classification_report(y_test,predictions))"
   ]
  },
  {
   "cell_type": "code",
   "execution_count": 131,
   "metadata": {},
   "outputs": [
    {
     "data": {
      "text/plain": [
       "array([[346, 162],\n",
       "       [159, 323]], dtype=int64)"
      ]
     },
     "execution_count": 131,
     "metadata": {},
     "output_type": "execute_result"
    }
   ],
   "source": [
    "confusion_matrix(y_test,predictions)"
   ]
  },
  {
   "cell_type": "code",
   "execution_count": null,
   "metadata": {},
   "outputs": [],
   "source": []
  }
 ],
 "metadata": {
  "kernelspec": {
   "display_name": "Python 3",
   "language": "python",
   "name": "python3"
  },
  "language_info": {
   "codemirror_mode": {
    "name": "ipython",
    "version": 3
   },
   "file_extension": ".py",
   "mimetype": "text/x-python",
   "name": "python",
   "nbconvert_exporter": "python",
   "pygments_lexer": "ipython3",
   "version": "3.7.6"
  }
 },
 "nbformat": 4,
 "nbformat_minor": 5
}
